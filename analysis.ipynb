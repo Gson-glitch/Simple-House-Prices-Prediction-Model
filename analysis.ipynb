{
 "cells": [
  {
   "cell_type": "markdown",
   "id": "9d4fb443",
   "metadata": {},
   "source": [
    "# Importing the required libraries"
   ]
  },
  {
   "cell_type": "code",
   "execution_count": 1,
   "id": "e3c38ab0",
   "metadata": {},
   "outputs": [],
   "source": [
    "import numpy as np\n",
    "import pandas as pd\n",
    "from sklearn.preprocessing import PolynomialFeatures\n",
    "from scipy.stats import pearsonr\n",
    "from sklearn.linear_model import LinearRegression\n",
    "import matplotlib.pyplot as plt\n",
    "import sys"
   ]
  },
  {
   "cell_type": "markdown",
   "id": "86c12b63",
   "metadata": {},
   "source": [
    "# Reading in the csv file"
   ]
  },
  {
   "cell_type": "code",
   "execution_count": 2,
   "id": "0fa1f526",
   "metadata": {},
   "outputs": [],
   "source": [
    "df = pd.read_csv('data.csv', index_col='property_id')"
   ]
  },
  {
   "cell_type": "markdown",
   "id": "994733d4",
   "metadata": {},
   "source": [
    "# Displaying the first 5 rows in the dataframe"
   ]
  },
  {
   "cell_type": "code",
   "execution_count": 3,
   "id": "6ea0dd45",
   "metadata": {},
   "outputs": [
    {
     "data": {
      "text/html": [
       "<div>\n",
       "<style scoped>\n",
       "    .dataframe tbody tr th:only-of-type {\n",
       "        vertical-align: middle;\n",
       "    }\n",
       "\n",
       "    .dataframe tbody tr th {\n",
       "        vertical-align: top;\n",
       "    }\n",
       "\n",
       "    .dataframe thead th {\n",
       "        text-align: right;\n",
       "    }\n",
       "</style>\n",
       "<table border=\"1\" class=\"dataframe\">\n",
       "  <thead>\n",
       "    <tr style=\"text-align: right;\">\n",
       "      <th></th>\n",
       "      <th>sqft_hvac</th>\n",
       "      <th>lot_width</th>\n",
       "      <th>lot_depth</th>\n",
       "      <th>age_of_roof</th>\n",
       "      <th>miles_to_school</th>\n",
       "      <th>price</th>\n",
       "    </tr>\n",
       "    <tr>\n",
       "      <th>property_id</th>\n",
       "      <th></th>\n",
       "      <th></th>\n",
       "      <th></th>\n",
       "      <th></th>\n",
       "      <th></th>\n",
       "      <th></th>\n",
       "    </tr>\n",
       "  </thead>\n",
       "  <tbody>\n",
       "    <tr>\n",
       "      <th>1</th>\n",
       "      <td>4247.5</td>\n",
       "      <td>93.3</td>\n",
       "      <td>180.5</td>\n",
       "      <td>10.2</td>\n",
       "      <td>3.9</td>\n",
       "      <td>713744.38</td>\n",
       "    </tr>\n",
       "    <tr>\n",
       "      <th>2</th>\n",
       "      <td>4354.5</td>\n",
       "      <td>95.4</td>\n",
       "      <td>133.1</td>\n",
       "      <td>29.6</td>\n",
       "      <td>1.0</td>\n",
       "      <td>688716.78</td>\n",
       "    </tr>\n",
       "    <tr>\n",
       "      <th>3</th>\n",
       "      <td>2088.3</td>\n",
       "      <td>91.1</td>\n",
       "      <td>177.8</td>\n",
       "      <td>2.7</td>\n",
       "      <td>2.2</td>\n",
       "      <td>467686.20</td>\n",
       "    </tr>\n",
       "    <tr>\n",
       "      <th>4</th>\n",
       "      <td>2258.8</td>\n",
       "      <td>81.2</td>\n",
       "      <td>115.2</td>\n",
       "      <td>25.4</td>\n",
       "      <td>1.1</td>\n",
       "      <td>419640.16</td>\n",
       "    </tr>\n",
       "    <tr>\n",
       "      <th>5</th>\n",
       "      <td>4703.8</td>\n",
       "      <td>93.5</td>\n",
       "      <td>93.9</td>\n",
       "      <td>4.5</td>\n",
       "      <td>2.9</td>\n",
       "      <td>671595.31</td>\n",
       "    </tr>\n",
       "  </tbody>\n",
       "</table>\n",
       "</div>"
      ],
      "text/plain": [
       "             sqft_hvac  lot_width  lot_depth  age_of_roof  miles_to_school  \\\n",
       "property_id                                                                  \n",
       "1               4247.5       93.3      180.5         10.2              3.9   \n",
       "2               4354.5       95.4      133.1         29.6              1.0   \n",
       "3               2088.3       91.1      177.8          2.7              2.2   \n",
       "4               2258.8       81.2      115.2         25.4              1.1   \n",
       "5               4703.8       93.5       93.9          4.5              2.9   \n",
       "\n",
       "                 price  \n",
       "property_id             \n",
       "1            713744.38  \n",
       "2            688716.78  \n",
       "3            467686.20  \n",
       "4            419640.16  \n",
       "5            671595.31  "
      ]
     },
     "execution_count": 3,
     "metadata": {},
     "output_type": "execute_result"
    }
   ],
   "source": [
    "df.head()"
   ]
  },
  {
   "cell_type": "markdown",
   "id": "12754c71",
   "metadata": {},
   "source": [
    "# Input `X` and target `y` as numpy arrays"
   ]
  },
  {
   "cell_type": "code",
   "execution_count": 4,
   "id": "435ecde0",
   "metadata": {},
   "outputs": [],
   "source": [
    "X = np.array(df.drop('price', axis=1))\n",
    "y = np.array(df['price'])"
   ]
  },
  {
   "cell_type": "markdown",
   "id": "c127daa0",
   "metadata": {},
   "source": [
    "# Using PolynomialFeatures to expand X into 2nd degree polynomials."
   ]
  },
  {
   "cell_type": "code",
   "execution_count": 5,
   "id": "428d64d3",
   "metadata": {},
   "outputs": [],
   "source": [
    "X = PolynomialFeatures(degree=2).fit_transform(X)"
   ]
  },
  {
   "cell_type": "markdown",
   "id": "6740de4e",
   "metadata": {},
   "source": [
    "# Creating a loop that looks for the most important features using the p-value of the Pearson correlation to the current residual. (The first time through the residual will just be Y .)"
   ]
  },
  {
   "cell_type": "code",
   "execution_count": 6,
   "id": "3936bf05",
   "metadata": {},
   "outputs": [],
   "source": [
    "poly_columns = ['1', 'sqft_hvac', 'lot_width', 'lot_depth', 'age_of_roof', 'miles_to_school', 'sqft_hvac^2', \n",
    "                'sqft_hvac lot_width', 'sqft_hvac lot_depth', 'sqft_hvac age_of_roof', 'sqft_hvac miles_to_school',\n",
    "               'lot_width^2', 'lot_width lot_depth', 'lot_width age_of_roof', 'lot_width miles_to_school', \n",
    "               'lot_depth^2', 'lot_depth age_of_roof', 'lot_depth miles_to_school',\n",
    "               'age_of_roof^2', 'age_of_roof miles_to_school', 'miles_to_school^2']\n",
    "\n",
    "poly_df = pd.DataFrame(X, columns=poly_columns)\n",
    "# poly_df = poly_df[['1', 'sqft_hvac', 'sqft_hvac^2', 'sqft_hvac lot_width', 'sqft_hvac lot_depth', 'sqft_hvac age_of_roof', 'lot_width lot_depth', 'lot_depth^2', 'lot_depth', 'lot_width^2', 'lot_width', 'sqft_hvac miles_to_school', 'lot_depth age_of_roof', 'miles_to_school', 'miles_to_school^2', 'lot_width miles_to_school', 'age_of_roof miles_to_school','lot_width age_of_roof', 'age_of_roof', 'age_of_roof^2', 'lot_depth miles_to_school']]\n",
    "# poly_columns = poly_df.columns"
   ]
  },
  {
   "cell_type": "code",
   "execution_count": 7,
   "id": "f1dc72ff",
   "metadata": {},
   "outputs": [
    {
     "data": {
      "text/html": [
       "<div>\n",
       "<style scoped>\n",
       "    .dataframe tbody tr th:only-of-type {\n",
       "        vertical-align: middle;\n",
       "    }\n",
       "\n",
       "    .dataframe tbody tr th {\n",
       "        vertical-align: top;\n",
       "    }\n",
       "\n",
       "    .dataframe thead th {\n",
       "        text-align: right;\n",
       "    }\n",
       "</style>\n",
       "<table border=\"1\" class=\"dataframe\">\n",
       "  <thead>\n",
       "    <tr style=\"text-align: right;\">\n",
       "      <th></th>\n",
       "      <th>1</th>\n",
       "      <th>sqft_hvac</th>\n",
       "      <th>lot_width</th>\n",
       "      <th>lot_depth</th>\n",
       "      <th>age_of_roof</th>\n",
       "      <th>miles_to_school</th>\n",
       "      <th>sqft_hvac^2</th>\n",
       "      <th>sqft_hvac lot_width</th>\n",
       "      <th>sqft_hvac lot_depth</th>\n",
       "      <th>sqft_hvac age_of_roof</th>\n",
       "      <th>...</th>\n",
       "      <th>lot_width^2</th>\n",
       "      <th>lot_width lot_depth</th>\n",
       "      <th>lot_width age_of_roof</th>\n",
       "      <th>lot_width miles_to_school</th>\n",
       "      <th>lot_depth^2</th>\n",
       "      <th>lot_depth age_of_roof</th>\n",
       "      <th>lot_depth miles_to_school</th>\n",
       "      <th>age_of_roof^2</th>\n",
       "      <th>age_of_roof miles_to_school</th>\n",
       "      <th>miles_to_school^2</th>\n",
       "    </tr>\n",
       "  </thead>\n",
       "  <tbody>\n",
       "    <tr>\n",
       "      <th>0</th>\n",
       "      <td>1.0</td>\n",
       "      <td>4247.5</td>\n",
       "      <td>93.3</td>\n",
       "      <td>180.5</td>\n",
       "      <td>10.2</td>\n",
       "      <td>3.9</td>\n",
       "      <td>18041256.25</td>\n",
       "      <td>396291.75</td>\n",
       "      <td>766673.75</td>\n",
       "      <td>43324.50</td>\n",
       "      <td>...</td>\n",
       "      <td>8704.89</td>\n",
       "      <td>16840.65</td>\n",
       "      <td>951.66</td>\n",
       "      <td>363.87</td>\n",
       "      <td>32580.25</td>\n",
       "      <td>1841.10</td>\n",
       "      <td>703.95</td>\n",
       "      <td>104.04</td>\n",
       "      <td>39.78</td>\n",
       "      <td>15.21</td>\n",
       "    </tr>\n",
       "    <tr>\n",
       "      <th>1</th>\n",
       "      <td>1.0</td>\n",
       "      <td>4354.5</td>\n",
       "      <td>95.4</td>\n",
       "      <td>133.1</td>\n",
       "      <td>29.6</td>\n",
       "      <td>1.0</td>\n",
       "      <td>18961670.25</td>\n",
       "      <td>415419.30</td>\n",
       "      <td>579583.95</td>\n",
       "      <td>128893.20</td>\n",
       "      <td>...</td>\n",
       "      <td>9101.16</td>\n",
       "      <td>12697.74</td>\n",
       "      <td>2823.84</td>\n",
       "      <td>95.40</td>\n",
       "      <td>17715.61</td>\n",
       "      <td>3939.76</td>\n",
       "      <td>133.10</td>\n",
       "      <td>876.16</td>\n",
       "      <td>29.60</td>\n",
       "      <td>1.00</td>\n",
       "    </tr>\n",
       "    <tr>\n",
       "      <th>2</th>\n",
       "      <td>1.0</td>\n",
       "      <td>2088.3</td>\n",
       "      <td>91.1</td>\n",
       "      <td>177.8</td>\n",
       "      <td>2.7</td>\n",
       "      <td>2.2</td>\n",
       "      <td>4360996.89</td>\n",
       "      <td>190244.13</td>\n",
       "      <td>371299.74</td>\n",
       "      <td>5638.41</td>\n",
       "      <td>...</td>\n",
       "      <td>8299.21</td>\n",
       "      <td>16197.58</td>\n",
       "      <td>245.97</td>\n",
       "      <td>200.42</td>\n",
       "      <td>31612.84</td>\n",
       "      <td>480.06</td>\n",
       "      <td>391.16</td>\n",
       "      <td>7.29</td>\n",
       "      <td>5.94</td>\n",
       "      <td>4.84</td>\n",
       "    </tr>\n",
       "    <tr>\n",
       "      <th>3</th>\n",
       "      <td>1.0</td>\n",
       "      <td>2258.8</td>\n",
       "      <td>81.2</td>\n",
       "      <td>115.2</td>\n",
       "      <td>25.4</td>\n",
       "      <td>1.1</td>\n",
       "      <td>5102177.44</td>\n",
       "      <td>183414.56</td>\n",
       "      <td>260213.76</td>\n",
       "      <td>57373.52</td>\n",
       "      <td>...</td>\n",
       "      <td>6593.44</td>\n",
       "      <td>9354.24</td>\n",
       "      <td>2062.48</td>\n",
       "      <td>89.32</td>\n",
       "      <td>13271.04</td>\n",
       "      <td>2926.08</td>\n",
       "      <td>126.72</td>\n",
       "      <td>645.16</td>\n",
       "      <td>27.94</td>\n",
       "      <td>1.21</td>\n",
       "    </tr>\n",
       "    <tr>\n",
       "      <th>4</th>\n",
       "      <td>1.0</td>\n",
       "      <td>4703.8</td>\n",
       "      <td>93.5</td>\n",
       "      <td>93.9</td>\n",
       "      <td>4.5</td>\n",
       "      <td>2.9</td>\n",
       "      <td>22125734.44</td>\n",
       "      <td>439805.30</td>\n",
       "      <td>441686.82</td>\n",
       "      <td>21167.10</td>\n",
       "      <td>...</td>\n",
       "      <td>8742.25</td>\n",
       "      <td>8779.65</td>\n",
       "      <td>420.75</td>\n",
       "      <td>271.15</td>\n",
       "      <td>8817.21</td>\n",
       "      <td>422.55</td>\n",
       "      <td>272.31</td>\n",
       "      <td>20.25</td>\n",
       "      <td>13.05</td>\n",
       "      <td>8.41</td>\n",
       "    </tr>\n",
       "  </tbody>\n",
       "</table>\n",
       "<p>5 rows × 21 columns</p>\n",
       "</div>"
      ],
      "text/plain": [
       "     1  sqft_hvac  lot_width  lot_depth  age_of_roof  miles_to_school  \\\n",
       "0  1.0     4247.5       93.3      180.5         10.2              3.9   \n",
       "1  1.0     4354.5       95.4      133.1         29.6              1.0   \n",
       "2  1.0     2088.3       91.1      177.8          2.7              2.2   \n",
       "3  1.0     2258.8       81.2      115.2         25.4              1.1   \n",
       "4  1.0     4703.8       93.5       93.9          4.5              2.9   \n",
       "\n",
       "   sqft_hvac^2  sqft_hvac lot_width  sqft_hvac lot_depth  \\\n",
       "0  18041256.25            396291.75            766673.75   \n",
       "1  18961670.25            415419.30            579583.95   \n",
       "2   4360996.89            190244.13            371299.74   \n",
       "3   5102177.44            183414.56            260213.76   \n",
       "4  22125734.44            439805.30            441686.82   \n",
       "\n",
       "   sqft_hvac age_of_roof  ...  lot_width^2  lot_width lot_depth  \\\n",
       "0               43324.50  ...      8704.89             16840.65   \n",
       "1              128893.20  ...      9101.16             12697.74   \n",
       "2                5638.41  ...      8299.21             16197.58   \n",
       "3               57373.52  ...      6593.44              9354.24   \n",
       "4               21167.10  ...      8742.25              8779.65   \n",
       "\n",
       "   lot_width age_of_roof  lot_width miles_to_school  lot_depth^2  \\\n",
       "0                 951.66                     363.87     32580.25   \n",
       "1                2823.84                      95.40     17715.61   \n",
       "2                 245.97                     200.42     31612.84   \n",
       "3                2062.48                      89.32     13271.04   \n",
       "4                 420.75                     271.15      8817.21   \n",
       "\n",
       "   lot_depth age_of_roof  lot_depth miles_to_school  age_of_roof^2  \\\n",
       "0                1841.10                     703.95         104.04   \n",
       "1                3939.76                     133.10         876.16   \n",
       "2                 480.06                     391.16           7.29   \n",
       "3                2926.08                     126.72         645.16   \n",
       "4                 422.55                     272.31          20.25   \n",
       "\n",
       "   age_of_roof miles_to_school  miles_to_school^2  \n",
       "0                        39.78              15.21  \n",
       "1                        29.60               1.00  \n",
       "2                         5.94               4.84  \n",
       "3                        27.94               1.21  \n",
       "4                        13.05               8.41  \n",
       "\n",
       "[5 rows x 21 columns]"
      ]
     },
     "execution_count": 7,
     "metadata": {},
     "output_type": "execute_result"
    }
   ],
   "source": [
    "poly_df.head()"
   ]
  },
  {
   "cell_type": "markdown",
   "id": "730ea44d",
   "metadata": {},
   "source": [
    "# Function that computes the `p_value`"
   ]
  },
  {
   "cell_type": "code",
   "execution_count": 8,
   "id": "9bb74d6b",
   "metadata": {},
   "outputs": [],
   "source": [
    "def compute_p_value(resd):\n",
    "    for i in range(1, len(poly_columns)):\n",
    "        _, p_value = pearsonr(poly_df[poly_columns[i]], resd)\n",
    "        print(f'\\t\"{poly_columns[i]}\" vs residual: p-value={p_value}')"
   ]
  },
  {
   "cell_type": "code",
   "execution_count": null,
   "id": "3122799b",
   "metadata": {},
   "outputs": [],
   "source": []
  },
  {
   "cell_type": "code",
   "execution_count": 9,
   "id": "32468970",
   "metadata": {},
   "outputs": [],
   "source": [
    "residual = y\n",
    "feature_indices = [0]"
   ]
  },
  {
   "cell_type": "markdown",
   "id": "0f9d15b0",
   "metadata": {},
   "source": [
    "# Displaying the Output"
   ]
  },
  {
   "cell_type": "code",
   "execution_count": 10,
   "id": "66872a6c",
   "metadata": {},
   "outputs": [
    {
     "name": "stdout",
     "output_type": "stream",
     "text": [
      "First time through: using original price data as the residual\n",
      "\t\"sqft_hvac\" vs residual: p-value=0.0\n",
      "\t\"lot_width\" vs residual: p-value=7.502300252189193e-22\n",
      "\t\"lot_depth\" vs residual: p-value=1.349112505398765e-32\n",
      "\t\"age_of_roof\" vs residual: p-value=0.2204854707886266\n",
      "\t\"miles_to_school\" vs residual: p-value=6.314415223095078e-08\n",
      "\t\"sqft_hvac^2\" vs residual: p-value=0.0\n",
      "\t\"sqft_hvac lot_width\" vs residual: p-value=0.0\n",
      "\t\"sqft_hvac lot_depth\" vs residual: p-value=0.0\n",
      "\t\"sqft_hvac age_of_roof\" vs residual: p-value=8.731082754175303e-55\n",
      "\t\"sqft_hvac miles_to_school\" vs residual: p-value=9.519591803622703e-21\n",
      "\t\"lot_width^2\" vs residual: p-value=5.993692365884732e-22\n",
      "\t\"lot_width lot_depth\" vs residual: p-value=4.1868028438284917e-41\n",
      "\t\"lot_width age_of_roof\" vs residual: p-value=0.014189712836334\n",
      "\t\"lot_width miles_to_school\" vs residual: p-value=3.3260830318919526e-05\n",
      "\t\"lot_depth^2\" vs residual: p-value=1.1014229237235183e-34\n",
      "\t\"lot_depth age_of_roof\" vs residual: p-value=9.568489304909097e-09\n",
      "\t\"lot_depth miles_to_school\" vs residual: p-value=0.6902534566522582\n",
      "\t\"age_of_roof^2\" vs residual: p-value=0.37721705725549765\n",
      "\t\"age_of_roof miles_to_school\" vs residual: p-value=0.002206196824401264\n",
      "\t\"miles_to_school^2\" vs residual: p-value=4.169604800671784e-06\n",
      "**** Fitting with [\"1\" \"sqft_hvac\" ] ****\n",
      "R2 = 0.8285362066724605\n",
      "Residual is updated\n",
      "\t\"sqft_hvac\" vs residual: p-value=0.0\n",
      "\t\"lot_width\" vs residual: p-value=1.1109630841278383e-07\n",
      "\t\"lot_depth\" vs residual: p-value=0.3451522817489371\n",
      "\t\"age_of_roof\" vs residual: p-value=0.5168239574379445\n",
      "\t\"miles_to_school\" vs residual: p-value=0.2436380099849952\n",
      "\t\"sqft_hvac^2\" vs residual: p-value=0.0\n",
      "\t\"sqft_hvac lot_width\" vs residual: p-value=0.0\n",
      "\t\"sqft_hvac lot_depth\" vs residual: p-value=1.914242598908407e-187\n",
      "\t\"sqft_hvac age_of_roof\" vs residual: p-value=2.512287842168718e-61\n",
      "\t\"sqft_hvac miles_to_school\" vs residual: p-value=4.7300358042621836e-65\n",
      "\t\"lot_width^2\" vs residual: p-value=1.0045059633690641e-07\n",
      "\t\"lot_width lot_depth\" vs residual: p-value=0.023965533455692405\n",
      "\t\"lot_width age_of_roof\" vs residual: p-value=0.1888921661411004\n",
      "\t\"lot_width miles_to_school\" vs residual: p-value=0.0700209066160461\n",
      "\t\"lot_depth^2\" vs residual: p-value=0.1589658782052225\n",
      "\t\"lot_depth age_of_roof\" vs residual: p-value=0.3694866546273665\n",
      "\t\"lot_depth miles_to_school\" vs residual: p-value=0.11689253063053233\n",
      "\t\"age_of_roof^2\" vs residual: p-value=0.6930159040753706\n",
      "\t\"age_of_roof miles_to_school\" vs residual: p-value=0.3852310080611722\n",
      "\t\"miles_to_school^2\" vs residual: p-value=0.23622203617489015\n",
      "**** Fitting with [\"1\" \"sqft_hvac\" \"lot_width lot_depth\" ] ****\n",
      "R2 = 0.9278909375846092\n",
      "Residual is updated\n"
     ]
    }
   ],
   "source": [
    "print('First time through: using original price data as the residual')\n",
    "compute_p_value(residual)\n",
    "print('**** Fitting with [\"1\" \"sqft_hvac\" ] ****')\n",
    "reg = LinearRegression()\n",
    "reg.fit(poly_df[['1', 'sqft_hvac']], residual)\n",
    "R2 = reg.score(poly_df[['1', 'sqft_hvac']], residual)\n",
    "print(f'R2 = {R2}')\n",
    "residual = reg.predict(poly_df[['1', 'sqft_hvac']])\n",
    "print('Residual is updated')\n",
    "compute_p_value(residual)\n",
    "print('**** Fitting with [\"1\" \"sqft_hvac\" \"lot_width lot_depth\" ] ****')\n",
    "reg = LinearRegression()\n",
    "reg.fit(poly_df[['1', 'sqft_hvac', 'lot_width lot_depth']], y)\n",
    "R2 = reg.score(poly_df[['1', 'sqft_hvac', 'lot_width lot_depth']], y)\n",
    "print(f'R2 = {R2}')\n",
    "print('Residual is updated')"
   ]
  },
  {
   "cell_type": "markdown",
   "id": "517c4725",
   "metadata": {},
   "source": [
    "# Visualizing the Output"
   ]
  },
  {
   "cell_type": "code",
   "execution_count": 11,
   "id": "bb1ae598",
   "metadata": {},
   "outputs": [
    {
     "name": "stdout",
     "output_type": "stream",
     "text": [
      "Making scatter plot: age_of_roof vs final residual\n",
      "Making a scatter plot: miles_from_school vs final residual\n"
     ]
    },
    {
     "data": {
      "image/png": "[encoded data removed]",
      "text/plain": [
       "<Figure size 640x480 with 1 Axes>"
      ]
     },
     "metadata": {},
     "output_type": "display_data"
    },
    {
     "data": {
      "image/png": "[encoded data removed]",
      "text/plain": [
       "<Figure size 640x480 with 1 Axes>"
      ]
     },
     "metadata": {},
     "output_type": "display_data"
    }
   ],
   "source": [
    "# Any relationship between the final residual and the unused variables?\n",
    "print(\"Making scatter plot: age_of_roof vs final residual\")\n",
    "fig, ax = plt.subplots()\n",
    "ax.scatter(X[:,3], residual, marker='+')\n",
    "fig.savefig(\"ResidualRoof.png\")\n",
    "\n",
    "print(\"Making a scatter plot: miles_from_school vs final residual\")\n",
    "fig, ax = plt.subplots()\n",
    "ax.scatter(X[:,4], residual, marker='+')\n",
    "fig.savefig(\"ResidualMiles.png\")"
   ]
  },
  {
   "cell_type": "code",
   "execution_count": null,
   "id": "b1184da8",
   "metadata": {},
   "outputs": [],
   "source": []
  }
 ],
 "metadata": {
  "kernelspec": {
   "display_name": "Python 3 (ipykernel)",
   "language": "python",
   "name": "python3"
  },
  "language_info": {
   "codemirror_mode": {
    "name": "ipython",
    "version": 3
   },
   "file_extension": ".py",
   "mimetype": "text/x-python",
   "name": "python",
   "nbconvert_exporter": "python",
   "pygments_lexer": "ipython3",
   "version": "3.10.4"
  }
 },
 "nbformat": 4,
 "nbformat_minor": 5
}
