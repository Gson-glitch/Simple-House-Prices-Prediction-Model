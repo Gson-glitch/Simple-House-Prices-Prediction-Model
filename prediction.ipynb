{
 "cells": [
  {
   "cell_type": "markdown",
   "id": "88b7d731",
   "metadata": {},
   "source": [
    "# Importing the required libraries"
   ]
  },
  {
   "cell_type": "code",
   "execution_count": 2,
   "id": "a187f016",
   "metadata": {},
   "outputs": [],
   "source": [
    "import numpy as np\n",
    "import pandas as pd\n",
    "from sklearn.preprocessing import PolynomialFeatures\n",
    "from sklearn.linear_model import LinearRegression"
   ]
  },
  {
   "cell_type": "markdown",
   "id": "baa895ab",
   "metadata": {},
   "source": [
    "# Reading in the csv file"
   ]
  },
  {
   "cell_type": "code",
   "execution_count": 65,
   "id": "51a465e6",
   "metadata": {},
   "outputs": [],
   "source": [
    "df =  pd.read_csv('data.csv', index_col='property_id')"
   ]
  },
  {
   "cell_type": "markdown",
   "id": "2fab9afb",
   "metadata": {},
   "source": [
    "# Printing out the most important features"
   ]
  },
  {
   "cell_type": "code",
   "execution_count": 3,
   "id": "565947fd",
   "metadata": {},
   "outputs": [
    {
     "name": "stdout",
     "output_type": "stream",
     "text": [
      "Using only the useful ones: [’sqft_hvac’, ’lot_size’, ’is_close_to_school’]...\n"
     ]
    }
   ],
   "source": [
    "print('Using only the useful ones: [’sqft_hvac’, ’lot_size’, ’is_close_to_school’]...')"
   ]
  },
  {
   "cell_type": "markdown",
   "id": "f09143c8",
   "metadata": {},
   "source": [
    "# Defining `X` and `y`"
   ]
  },
  {
   "cell_type": "code",
   "execution_count": 5,
   "id": "518f033e",
   "metadata": {},
   "outputs": [],
   "source": [
    "X_basic = df.values[:, :-1]\n",
    "labels_basic = df.columns[:-1]\n",
    "Y = df.values[:, -1]"
   ]
  },
  {
   "cell_type": "markdown",
   "id": "9414311d",
   "metadata": {},
   "source": [
    "# Expand to a 2-degree polynomials"
   ]
  },
  {
   "cell_type": "code",
   "execution_count": 97,
   "id": "49068308",
   "metadata": {},
   "outputs": [],
   "source": [
    "X = PolynomialFeatures(degree=2).fit_transform(X_basic)"
   ]
  },
  {
   "cell_type": "code",
   "execution_count": 98,
   "id": "ff0592e6",
   "metadata": {},
   "outputs": [],
   "source": [
    "poly_df_column_names = ['1', 'sqft_hvac', 'lot_width', 'lot_depth', 'age_of_roof', 'miles_to_school', 'sqft_hvac^2', \n",
    "                'sqft_hvac lot_width', 'sqft_hvac lot_depth', 'sqft_hvac age_of_roof', 'sqft_hvac miles_to_school',\n",
    "               'lot_width^2', 'lot_width lot_depth', 'lot_width age_of_roof', 'lot_width miles_to_school', \n",
    "               'lot_depth^2', 'lot_depth age_of_roof', 'lot_depth miles_to_school',\n",
    "               'age_of_roof^2', 'age_of_roof miles_to_school', 'miles_to_school^2']\n",
    "\n",
    "poly_df = pd.DataFrame(X, columns=poly_df_column_names)"
   ]
  },
  {
   "cell_type": "code",
   "execution_count": 99,
   "id": "ec92cbe5",
   "metadata": {},
   "outputs": [],
   "source": [
    "X = poly_df[['sqft_hvac', 'lot_width lot_depth', 'miles_to_school']]\n",
    "X.columns = ['sqft_hvac', 'lot_size', 'is_close_to_school']"
   ]
  },
  {
   "cell_type": "markdown",
   "id": "7b968052",
   "metadata": {},
   "source": [
    "# Creating a model, training it, and evaluating it using `r-squared`"
   ]
  },
  {
   "cell_type": "code",
   "execution_count": 123,
   "id": "0a2a1a50",
   "metadata": {},
   "outputs": [
    {
     "name": "stdout",
     "output_type": "stream",
     "text": [
      "R2 = 0.9575559792268397\n"
     ]
    }
   ],
   "source": [
    "model = LinearRegression()\n",
    "model.fit(X, Y)\n",
    "R2 = model.score(X, Y)\n",
    "print(f'R2 = {R2}')"
   ]
  },
  {
   "cell_type": "code",
   "execution_count": null,
   "id": "9049a378",
   "metadata": {},
   "outputs": [],
   "source": []
  },
  {
   "cell_type": "code",
   "execution_count": 125,
   "id": "5a93dd59",
   "metadata": {},
   "outputs": [
    {
     "data": {
      "text/plain": [
       "array([ 1.18105351e+02,  1.10630631e+01, -1.43786420e+04])"
      ]
     },
     "execution_count": 125,
     "metadata": {},
     "output_type": "execute_result"
    }
   ],
   "source": [
    "model.coef_"
   ]
  },
  {
   "cell_type": "code",
   "execution_count": 128,
   "id": "281f2567",
   "metadata": {},
   "outputs": [
    {
     "name": "stdout",
     "output_type": "stream",
     "text": [
      "Price = $81349.47 + (sqft x $118.11) + (lot_size x $11.06)\n"
     ]
    }
   ],
   "source": [
    "print(f'Price = ${model.intercept_:.2f} + (sqft x ${model.coef_[0]:.2f}) + (lot_size x ${model.coef_[1]:.2f})')"
   ]
  },
  {
   "cell_type": "code",
   "execution_count": null,
   "id": "f886a65c",
   "metadata": {},
   "outputs": [],
   "source": []
  }
 ],
 "metadata": {
  "kernelspec": {
   "display_name": "Python 3 (ipykernel)",
   "language": "python",
   "name": "python3"
  },
  "language_info": {
   "codemirror_mode": {
    "name": "ipython",
    "version": 3
   },
   "file_extension": ".py",
   "mimetype": "text/x-python",
   "name": "python",
   "nbconvert_exporter": "python",
   "pygments_lexer": "ipython3",
   "version": "3.10.4"
  }
 },
 "nbformat": 4,
 "nbformat_minor": 5
}
